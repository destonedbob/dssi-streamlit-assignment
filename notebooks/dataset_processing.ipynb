{
 "cells": [
  {
   "cell_type": "code",
   "execution_count": 1,
   "id": "a0b64a97",
   "metadata": {},
   "outputs": [],
   "source": [
    "import pandas as pd\n",
    "import numpy as np"
   ]
  },
  {
   "cell_type": "code",
   "execution_count": 41,
   "id": "45a04218",
   "metadata": {},
   "outputs": [],
   "source": [
    "original = pd.read_csv('../data/dataset.csv')"
   ]
  },
  {
   "cell_type": "code",
   "execution_count": 45,
   "id": "83b76530",
   "metadata": {},
   "outputs": [],
   "source": [
    "new = original.copy()\n",
    "new['University'] = new['Name'].apply(lambda x: x.split(' ')[0])\n",
    "new['Degree'] = new['Name'].apply(lambda x: ' '.join(x.split(' ')[1:]).replace('*', '')\\\n",
    "                                                                      .replace(' (Hons)', '')\\\n",
    "                                                                      .replace(' with Honours', '')\\\n",
    "                                                                      .replace(' Cum Laude and above', '')\\\n",
    "                                                                      .replace('Major8', 'Major')\\\n",
    "                                                                      .replace('Bachelor of ', '')\\\n",
    "                                                                      .replace('Master of Technology in ', '')\\\n",
    "                                                                      .replace('Master of Technology in ', '')\\\n",
    "                                                                      .replace('Laws', 'Law')\\\n",
    "                                                                      .replace('Double Degree in ', '')\\\n",
    "                                                                      .replace('(and Education)', 'and Education')\\\n",
    "                                                                      .strip())\n",
    "new.drop('Name', inplace=True, axis=1)"
   ]
  },
  {
   "cell_type": "code",
   "execution_count": 46,
   "id": "c752c9ea",
   "metadata": {},
   "outputs": [
    {
     "data": {
      "text/html": [
       "<div>\n",
       "<style scoped>\n",
       "    .dataframe tbody tr th:only-of-type {\n",
       "        vertical-align: middle;\n",
       "    }\n",
       "\n",
       "    .dataframe tbody tr th {\n",
       "        vertical-align: top;\n",
       "    }\n",
       "\n",
       "    .dataframe thead th {\n",
       "        text-align: right;\n",
       "    }\n",
       "</style>\n",
       "<table border=\"1\" class=\"dataframe\">\n",
       "  <thead>\n",
       "    <tr style=\"text-align: right;\">\n",
       "      <th></th>\n",
       "      <th>University</th>\n",
       "      <th>Degree</th>\n",
       "    </tr>\n",
       "  </thead>\n",
       "  <tbody>\n",
       "    <tr>\n",
       "      <th>0</th>\n",
       "      <td>NUS</td>\n",
       "      <td>Law</td>\n",
       "    </tr>\n",
       "    <tr>\n",
       "      <th>1</th>\n",
       "      <td>SMU</td>\n",
       "      <td>Law</td>\n",
       "    </tr>\n",
       "    <tr>\n",
       "      <th>2</th>\n",
       "      <td>SMU</td>\n",
       "      <td>Law</td>\n",
       "    </tr>\n",
       "    <tr>\n",
       "      <th>3</th>\n",
       "      <td>NUS</td>\n",
       "      <td>Computing (Computer Science)</td>\n",
       "    </tr>\n",
       "    <tr>\n",
       "      <th>4</th>\n",
       "      <td>SMU</td>\n",
       "      <td>Computer Science</td>\n",
       "    </tr>\n",
       "  </tbody>\n",
       "</table>\n",
       "</div>"
      ],
      "text/plain": [
       "  University                        Degree\n",
       "0        NUS                           Law\n",
       "1        SMU                           Law\n",
       "2        SMU                           Law\n",
       "3        NUS  Computing (Computer Science)\n",
       "4        SMU              Computer Science"
      ]
     },
     "execution_count": 46,
     "metadata": {},
     "output_type": "execute_result"
    }
   ],
   "source": [
    "new.head()"
   ]
  },
  {
   "cell_type": "code",
   "execution_count": 48,
   "id": "fd724781",
   "metadata": {},
   "outputs": [],
   "source": [
    "new.to_csv('../data/df.csv', index=False)"
   ]
  },
  {
   "cell_type": "code",
   "execution_count": null,
   "id": "77841962",
   "metadata": {},
   "outputs": [],
   "source": []
  }
 ],
 "metadata": {
  "kernelspec": {
   "display_name": "Python 3 (ipykernel)",
   "language": "python",
   "name": "python3"
  },
  "language_info": {
   "codemirror_mode": {
    "name": "ipython",
    "version": 3
   },
   "file_extension": ".py",
   "mimetype": "text/x-python",
   "name": "python",
   "nbconvert_exporter": "python",
   "pygments_lexer": "ipython3",
   "version": "3.11.5"
  }
 },
 "nbformat": 4,
 "nbformat_minor": 5
}
